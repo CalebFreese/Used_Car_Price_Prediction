{
 "cells": [
  {
   "cell_type": "markdown",
   "metadata": {},
   "source": [
    "# Import Files"
   ]
  },
  {
   "cell_type": "code",
   "execution_count": 1,
   "metadata": {},
   "outputs": [
    {
     "name": "stderr",
     "output_type": "stream",
     "text": [
      "C:\\Users\\caleb\\AppData\\Local\\Packages\\PythonSoftwareFoundation.Python.3.9_qbz5n2kfra8p0\\LocalCache\\local-packages\\Python39\\site-packages\\requests\\__init__.py:102: RequestsDependencyWarning: urllib3 (1.26.7) or chardet (5.1.0)/charset_normalizer (2.0.9) doesn't match a supported version!\n",
      "  warnings.warn(\"urllib3 ({}) or chardet ({})/charset_normalizer ({}) doesn't match a supported \"\n"
     ]
    }
   ],
   "source": [
    "import sys\n",
    "import os\n",
    "import numpy as np\n",
    "\n",
    "# Get the current working directory\n",
    "current_directory = os.getcwd()\n",
    "\n",
    "# Add the main folder to the sys.path list\n",
    "main_folder_path = os.path.abspath(os.path.join(current_directory, '..'))\n",
    "sys.path.append(main_folder_path)\n",
    "\n",
    "from src.Models import Train_Model\n",
    "from src.Models import Predict_Model\n",
    "from src.Data import Make_Dataset_Functions as funs\n"
   ]
  },
  {
   "cell_type": "markdown",
   "metadata": {},
   "source": [
    "# Get Data"
   ]
  },
  {
   "cell_type": "code",
   "execution_count": 2,
   "metadata": {},
   "outputs": [],
   "source": [
    "#gets X_test data\n",
    "file_path_read = os.path.join(current_directory, '..', 'Data', 'Processed', 'X_test.csv')\n",
    "X_test = np.array(funs.read_processed(file_path_read))\n",
    "\n",
    "#gets X_train data\n",
    "file_path_read = os.path.join(current_directory, '..', 'Data', 'Processed', 'X_train.csv')\n",
    "X_train = np.array(funs.read_processed(file_path_read))\n",
    "\n",
    "#gets y_test data\n",
    "file_path_read = os.path.join(current_directory, '..', 'Data', 'Processed', 'y_test.csv')\n",
    "y_test = np.array(funs.read_processed(file_path_read))\n",
    "\n",
    "#gets y_train data\n",
    "file_path_read = os.path.join(current_directory, '..', 'Data', 'Processed', 'y_train.csv')\n",
    "y_train = np.array(funs.read_y(file_path_read))"
   ]
  },
  {
   "cell_type": "markdown",
   "metadata": {},
   "source": [
    "# Create Multiple Linear Regression Model"
   ]
  },
  {
   "cell_type": "code",
   "execution_count": 3,
   "metadata": {},
   "outputs": [],
   "source": [
    "\n",
    "\n",
    "#get file name\n",
    "file_path_MLR = os.path.join(current_directory, '..', 'Models', 'Test Models', 'MLR.pkl')\n",
    "\n",
    "#create model\n",
    "model = Train_Model.multiple_linear_regression(X_train, y_train, file_path_MLR)"
   ]
  },
  {
   "cell_type": "markdown",
   "metadata": {},
   "source": [
    "# Predict Using Model"
   ]
  },
  {
   "cell_type": "code",
   "execution_count": 4,
   "metadata": {},
   "outputs": [
    {
     "name": "stdout",
     "output_type": "stream",
     "text": [
      "Root Mean Squared Error (RMSE): 0.7042284698408423\n"
     ]
    }
   ],
   "source": [
    "predict = Predict_Model.predict(model, X_test, y_test)"
   ]
  }
 ],
 "metadata": {
  "kernelspec": {
   "display_name": "Python 3",
   "language": "python",
   "name": "python3"
  },
  "language_info": {
   "codemirror_mode": {
    "name": "ipython",
    "version": 3
   },
   "file_extension": ".py",
   "mimetype": "text/x-python",
   "name": "python",
   "nbconvert_exporter": "python",
   "pygments_lexer": "ipython3",
   "version": "3.9.13"
  },
  "orig_nbformat": 4
 },
 "nbformat": 4,
 "nbformat_minor": 2
}

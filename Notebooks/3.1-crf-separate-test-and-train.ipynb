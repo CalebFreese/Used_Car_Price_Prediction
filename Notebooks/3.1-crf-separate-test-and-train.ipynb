{
 "cells": [
  {
   "cell_type": "markdown",
   "metadata": {},
   "source": [
    "# Import Files"
   ]
  },
  {
   "cell_type": "code",
   "execution_count": 1,
   "metadata": {},
   "outputs": [],
   "source": [
    "import sys\n",
    "import os\n",
    "\n",
    "# Get the current working directory\n",
    "current_directory = os.getcwd()\n",
    "\n",
    "# Add the main folder to the sys.path list\n",
    "main_folder_path = os.path.abspath(os.path.join(current_directory, '..'))\n",
    "sys.path.append(main_folder_path)\n",
    "\n",
    "#Import functions\n",
    "from src.Data import Make_Dataset_Functions as funs"
   ]
  },
  {
   "cell_type": "markdown",
   "metadata": {},
   "source": [
    "# Read From Processed"
   ]
  },
  {
   "cell_type": "code",
   "execution_count": 2,
   "metadata": {},
   "outputs": [],
   "source": [
    "#gets adjusted output from interim data\n",
    "file_path_read = os.path.join(current_directory, '..', 'Data', 'Processed', 'Processed.csv')\n",
    "out_arr = funs.read_processed(file_path_read)"
   ]
  },
  {
   "cell_type": "markdown",
   "metadata": {},
   "source": [
    "# Separates Into Test and Train"
   ]
  },
  {
   "cell_type": "code",
   "execution_count": 3,
   "metadata": {},
   "outputs": [],
   "source": [
    "#gets output of separation\n",
    "output = funs.test_train(out_arr)"
   ]
  },
  {
   "cell_type": "markdown",
   "metadata": {},
   "source": [
    "# Writes Each Individual Array"
   ]
  },
  {
   "cell_type": "code",
   "execution_count": 4,
   "metadata": {},
   "outputs": [],
   "source": [
    "#separates the output\n",
    "X_train = output[0]\n",
    "X_test = output[1]\n",
    "y_train = output[2]\n",
    "y_test = output[3]\n",
    "\n",
    "#write X_train\n",
    "X_train_path_write = os.path.join(current_directory, '..', 'Data', 'Processed', 'X_train.csv')\n",
    "funs.write_to_processed(X_train, X_train_path_write)\n",
    "\n",
    "#write X_test\n",
    "X_test_path_write = os.path.join(current_directory, '..', 'Data', 'Processed', 'X_test.csv')\n",
    "funs.write_to_processed(X_test, X_test_path_write)\n",
    "\n",
    "#write y_train\n",
    "y_train_path_write = os.path.join(current_directory, '..', 'Data', 'Processed', 'y_train.csv')\n",
    "funs.write_output(y_train, y_train_path_write)\n",
    "\n",
    "#write y_test\n",
    "y_test_path_write = os.path.join(current_directory, '..', 'Data', 'Processed', 'y_test.csv')\n",
    "funs.write_output(y_test, y_test_path_write)"
   ]
  }
 ],
 "metadata": {
  "kernelspec": {
   "display_name": "Python 3",
   "language": "python",
   "name": "python3"
  },
  "language_info": {
   "codemirror_mode": {
    "name": "ipython",
    "version": 3
   },
   "file_extension": ".py",
   "mimetype": "text/x-python",
   "name": "python",
   "nbconvert_exporter": "python",
   "pygments_lexer": "ipython3",
   "version": "3.9.13"
  },
  "orig_nbformat": 4
 },
 "nbformat": 4,
 "nbformat_minor": 2
}

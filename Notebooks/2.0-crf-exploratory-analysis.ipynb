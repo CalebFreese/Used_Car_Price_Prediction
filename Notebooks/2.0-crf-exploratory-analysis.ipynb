{
 "cells": [
  {
   "cell_type": "markdown",
   "metadata": {},
   "source": [
    "# Import Files"
   ]
  },
  {
   "cell_type": "code",
   "execution_count": 25,
   "metadata": {},
   "outputs": [],
   "source": [
    "import sys\n",
    "import os\n",
    "\n",
    "# Get the current working directory\n",
    "current_directory = os.getcwd()\n",
    "\n",
    "# Add the main folder to the sys.path list\n",
    "main_folder_path = os.path.abspath(os.path.join(current_directory, '..'))\n",
    "sys.path.append(main_folder_path)\n",
    "\n",
    "#Import vizualize\n",
    "from src.Vizualizations import Vizualize"
   ]
  },
  {
   "cell_type": "markdown",
   "metadata": {},
   "source": [
    "# Find Max House Value"
   ]
  },
  {
   "cell_type": "code",
   "execution_count": 29,
   "metadata": {},
   "outputs": [
    {
     "name": "stdout",
     "output_type": "stream",
     "text": [
      "<class 'str'>\n",
      "9870000\n"
     ]
    }
   ],
   "source": [
    "#Get File Path\n",
    "file_path_read = os.path.join(current_directory, '..', 'Data', 'Interim', 'Interim.csv')\n",
    "\n",
    "#gets array of house values\n",
    "out_arr = Vizualize.house_values(file_path_read)\n",
    "\n",
    "print(type(out_arr[0]))\n",
    "\n",
    "#gets max\n",
    "print(max(out_arr))"
   ]
  },
  {
   "cell_type": "markdown",
   "metadata": {},
   "source": [
    "# Gets skewness and kurtosis"
   ]
  },
  {
   "cell_type": "code",
   "execution_count": 24,
   "metadata": {},
   "outputs": [
    {
     "ename": "TypeError",
     "evalue": "can only concatenate str (not \"float\") to str",
     "output_type": "error",
     "traceback": [
      "\u001b[1;31m---------------------------------------------------------------------------\u001b[0m",
      "\u001b[1;31mTypeError\u001b[0m                                 Traceback (most recent call last)",
      "Cell \u001b[1;32mIn[24], line 1\u001b[0m\n\u001b[1;32m----> 1\u001b[0m Vizualize\u001b[39m.\u001b[39;49mskew(out_arr)\n\u001b[0;32m      2\u001b[0m Vizualize\u001b[39m.\u001b[39mkurtosis(out_arr)\n",
      "File \u001b[1;32mc:\\Users\\caleb\\Documents\\Freelance\\Housing_Price_Prediction\\src\\Vizualizations\\Vizualize.py:30\u001b[0m, in \u001b[0;36mskew\u001b[1;34m(arr)\u001b[0m\n\u001b[0;32m     29\u001b[0m \u001b[39mdef\u001b[39;00m \u001b[39mskew\u001b[39m(arr):\n\u001b[1;32m---> 30\u001b[0m     skewness \u001b[39m=\u001b[39m stats\u001b[39m.\u001b[39mskew(arr)\n\u001b[0;32m     31\u001b[0m     \u001b[39mprint\u001b[39m(\u001b[39m\"\u001b[39m\u001b[39mSkewness: \u001b[39m\u001b[39m\"\u001b[39m \u001b[39m+\u001b[39m skewness)\n",
      "\u001b[1;31mTypeError\u001b[0m: can only concatenate str (not \"float\") to str"
     ]
    }
   ],
   "source": [
    "Vizualize.skew(out_arr)\n",
    "Vizualize.kurtosis(out_arr)"
   ]
  }
 ],
 "metadata": {
  "kernelspec": {
   "display_name": "Python 3",
   "language": "python",
   "name": "python3"
  },
  "language_info": {
   "codemirror_mode": {
    "name": "ipython",
    "version": 3
   },
   "file_extension": ".py",
   "mimetype": "text/x-python",
   "name": "python",
   "nbconvert_exporter": "python",
   "pygments_lexer": "ipython3",
   "version": "3.9.13"
  },
  "orig_nbformat": 4
 },
 "nbformat": 4,
 "nbformat_minor": 2
}

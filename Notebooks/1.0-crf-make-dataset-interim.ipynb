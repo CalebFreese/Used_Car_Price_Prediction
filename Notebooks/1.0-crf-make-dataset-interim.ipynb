{
 "cells": [
  {
   "cell_type": "markdown",
   "metadata": {},
   "source": [
    "# Read Raw Data"
   ]
  },
  {
   "cell_type": "code",
   "execution_count": 19,
   "metadata": {},
   "outputs": [],
   "source": [
    "import sys\n",
    "import os\n",
    "\n",
    "# Get the current working directory\n",
    "current_directory = os.getcwd()\n",
    "\n",
    "# Add the main folder to the sys.path list\n",
    "main_folder_path = os.path.abspath(os.path.join(current_directory, '..'))\n",
    "sys.path.append(main_folder_path)\n",
    "\n",
    "# Import the run.py module\n",
    "from src.Data import Make_Dataset_Functions as funs\n",
    "\n",
    "#gets adjusted output from raw data\n",
    "file_path_read = os.path.join(current_directory, '..', 'Data', 'Raw', 'Housing.csv')\n",
    "out_arr = funs.read_dataset_raw(file_path_read)"
   ]
  },
  {
   "cell_type": "markdown",
   "metadata": {},
   "source": [
    "# Write Interim Data"
   ]
  },
  {
   "cell_type": "code",
   "execution_count": 21,
   "metadata": {},
   "outputs": [],
   "source": [
    "#writes adjusted output to interim data\n",
    "file_path_write = os.path.join(current_directory, '..', 'Data', 'Interim', 'Interim.csv')\n",
    "funs.write_to_interim(out_arr, file_path_write)"
   ]
  }
 ],
 "metadata": {
  "kernelspec": {
   "display_name": "Python 3",
   "language": "python",
   "name": "python3"
  },
  "language_info": {
   "codemirror_mode": {
    "name": "ipython",
    "version": 3
   },
   "file_extension": ".py",
   "mimetype": "text/x-python",
   "name": "python",
   "nbconvert_exporter": "python",
   "pygments_lexer": "ipython3",
   "version": "3.9.13"
  },
  "orig_nbformat": 4
 },
 "nbformat": 4,
 "nbformat_minor": 2
}

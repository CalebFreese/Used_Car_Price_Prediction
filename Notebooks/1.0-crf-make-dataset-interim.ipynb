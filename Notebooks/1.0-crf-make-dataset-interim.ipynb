{
 "cells": [
  {
   "cell_type": "markdown",
   "metadata": {},
   "source": [
    "# Read Raw Data"
   ]
  },
  {
   "cell_type": "code",
   "execution_count": 1,
   "metadata": {},
   "outputs": [
    {
     "name": "stdout",
     "output_type": "stream",
     "text": [
      "UnicodeDecodeError occurred. Skipping the row.\n"
     ]
    }
   ],
   "source": [
    "import sys\n",
    "import os\n",
    "\n",
    "# Get the current working directory\n",
    "current_directory = os.getcwd()\n",
    "\n",
    "# Add the main folder to the sys.path list\n",
    "main_folder_path = os.path.abspath(os.path.join(current_directory, '..'))\n",
    "sys.path.append(main_folder_path)\n",
    "\n",
    "# Import the Make_Dataset\n",
    "from src.Data import Make_Dataset_Functions as funs\n",
    "\n",
    "#gets adjusted output from raw data\n",
    "file_path_read = os.path.join(current_directory, '..', 'Data', 'Raw', 'autos.csv')\n",
    "output = funs.read_dataset_raw(file_path_read)\n",
    "out_arr = output[0]\n",
    "none_arr = output[1]"
   ]
  },
  {
   "cell_type": "markdown",
   "metadata": {},
   "source": [
    "# Write Interim Data"
   ]
  },
  {
   "cell_type": "code",
   "execution_count": 2,
   "metadata": {},
   "outputs": [],
   "source": [
    "#writes adjusted output to interim data\n",
    "file_path_write = os.path.join(current_directory, '..', 'Data', 'Interim', 'interim.csv')\n",
    "funs.write_to_interim(out_arr, file_path_write)\n",
    "\n",
    "#writes none output to interime data\n",
    "file_path_write = os.path.join(current_directory, '..', 'Data', 'Interim', 'interim_none.csv')\n",
    "funs.write_to_interim_none(none_arr, file_path_write)"
   ]
  }
 ],
 "metadata": {
  "kernelspec": {
   "display_name": "Python 3",
   "language": "python",
   "name": "python3"
  },
  "language_info": {
   "codemirror_mode": {
    "name": "ipython",
    "version": 3
   },
   "file_extension": ".py",
   "mimetype": "text/x-python",
   "name": "python",
   "nbconvert_exporter": "python",
   "pygments_lexer": "ipython3",
   "version": "3.9.13"
  },
  "orig_nbformat": 4
 },
 "nbformat": 4,
 "nbformat_minor": 2
}
